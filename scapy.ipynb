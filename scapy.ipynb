{
 "cells": [
  {
   "cell_type": "markdown",
   "metadata": {},
   "source": [
    "This File is to understand about Scapy uses and its manipulation"
   ]
  },
  {
   "cell_type": "code",
   "execution_count": 19,
   "metadata": {},
   "outputs": [],
   "source": [
    "import scapy"
   ]
  },
  {
   "cell_type": "code",
   "execution_count": 20,
   "metadata": {},
   "outputs": [],
   "source": [
    "from scapy.all import sniff"
   ]
  },
  {
   "cell_type": "code",
   "execution_count": 6,
   "metadata": {},
   "outputs": [],
   "source": [
    "results = sniff(count=10)"
   ]
  },
  {
   "cell_type": "code",
   "execution_count": 7,
   "metadata": {},
   "outputs": [
    {
     "name": "stdout",
     "output_type": "stream",
     "text": [
      "0000 Ether / IP / UDP 192.168.1.10:54257 > 142.250.199.170:https / Raw\n",
      "0001 Ether / IP / UDP 142.250.199.170:https > 192.168.1.10:54257 / Raw\n",
      "0002 Ether / IP / UDP 192.168.1.10:51785 > 142.250.183.42:https / Raw\n",
      "0003 Ether / IP / UDP 142.250.183.42:https > 192.168.1.10:51785 / Raw\n",
      "0004 Ether / IP / UDP 192.168.1.10:54257 > 142.250.199.170:https / Raw\n",
      "0005 Ether / IP / UDP 142.250.199.170:https > 192.168.1.10:54257 / Raw\n",
      "0006 Ether / IP / UDP 192.168.1.10:51785 > 142.250.183.42:https / Raw\n",
      "0007 Ether / IP / UDP 142.250.183.42:https > 192.168.1.10:51785 / Raw\n",
      "0008 Ether / IP / UDP / DNS Qry b'mobile.events.data.microsoft.com.'\n",
      "0009 Ether / IP / UDP / DNS Ans b'mobile.events.data.trafficmanager.net.'\n"
     ]
    }
   ],
   "source": [
    "results.show()"
   ]
  },
  {
   "cell_type": "markdown",
   "metadata": {},
   "source": [
    "now to get more information about anyone of the packets:"
   ]
  },
  {
   "cell_type": "code",
   "execution_count": 8,
   "metadata": {},
   "outputs": [
    {
     "name": "stdout",
     "output_type": "stream",
     "text": [
      "###[ Ethernet ]###\n",
      "  dst       = 14:75:5b:9a:c6:df\n",
      "  src       = 4c:ae:1c:16:83:d8\n",
      "  type      = IPv4\n",
      "###[ IP ]###\n",
      "     version   = 4\n",
      "     ihl       = 5\n",
      "     tos       = 0x0\n",
      "     len       = 53\n",
      "     id        = 0\n",
      "     flags     = DF\n",
      "     frag      = 0\n",
      "     ttl       = 58\n",
      "     proto     = udp\n",
      "     chksum    = 0x38e1\n",
      "     src       = 142.250.183.42\n",
      "     dst       = 192.168.1.10\n",
      "     \\options   \\\n",
      "###[ UDP ]###\n",
      "        sport     = https\n",
      "        dport     = 51785\n",
      "        len       = 33\n",
      "        chksum    = 0xa91c\n",
      "###[ Raw ]###\n",
      "           load      = b'@\\x83^.8\\xccp(\\xd2\\xcd\\x9e\\x02\\x8a\\xc9Gj\\x9a/\\xc8\\xbf\\xd0\\x1c\\xb3\\xfc\\x11'\n",
      "\n"
     ]
    }
   ],
   "source": [
    "results[3].show()"
   ]
  },
  {
   "cell_type": "markdown",
   "metadata": {},
   "source": [
    "Now doing it for a specific protocol like icmp(internet control message protocol)\n",
    "to get it we pe open another terminal and pinged like\n",
    "ping google.com\n",
    "ping codeonby.com"
   ]
  },
  {
   "cell_type": "code",
   "execution_count": 15,
   "metadata": {},
   "outputs": [],
   "source": [
    "results = sniff(count=10, filter=\"icmp\")"
   ]
  },
  {
   "cell_type": "code",
   "execution_count": 16,
   "metadata": {},
   "outputs": [
    {
     "name": "stdout",
     "output_type": "stream",
     "text": [
      "0000 Ether / IP / ICMP 192.168.1.10 > 142.250.199.174 echo-request 0 / Raw\n",
      "0001 Ether / IP / ICMP 142.250.199.174 > 192.168.1.10 echo-reply 0 / Raw\n",
      "0002 Ether / IP / ICMP 192.168.1.10 > 142.250.199.174 echo-request 0 / Raw\n",
      "0003 Ether / IP / ICMP 142.250.199.174 > 192.168.1.10 echo-reply 0 / Raw\n",
      "0004 Ether / IP / ICMP 192.168.1.10 > 142.250.199.174 echo-request 0 / Raw\n",
      "0005 Ether / IP / ICMP 142.250.199.174 > 192.168.1.10 echo-reply 0 / Raw\n",
      "0006 Ether / IP / ICMP 192.168.1.10 > 67.205.2.68 echo-request 0 / Raw\n",
      "0007 Ether / IP / ICMP 67.205.2.68 > 192.168.1.10 echo-reply 0 / Raw\n",
      "0008 Ether / IP / ICMP 192.168.1.10 > 67.205.2.68 echo-request 0 / Raw\n",
      "0009 Ether / IP / ICMP 67.205.2.68 > 192.168.1.10 echo-reply 0 / Raw\n"
     ]
    }
   ],
   "source": [
    "results.show()"
   ]
  },
  {
   "cell_type": "code",
   "execution_count": null,
   "metadata": {},
   "outputs": [
    {
     "name": "stdout",
     "output_type": "stream",
     "text": [
      "###[ Ethernet ]###\n",
      "  dst       = 14:75:5b:9a:c6:df\n",
      "  src       = 4c:ae:1c:16:83:d8\n",
      "  type      = IPv4\n",
      "###[ IP ]###\n",
      "     version   = 4\n",
      "     ihl       = 5\n",
      "     tos       = 0x60\n",
      "     len       = 60\n",
      "     id        = 0\n",
      "     flags     = \n",
      "     frag      = 0\n",
      "     ttl       = 117\n",
      "     proto     = icmp\n",
      "     chksum    = 0x2d06\n",
      "     src       = 142.250.199.174\n",
      "     dst       = 192.168.1.10\n",
      "     \\options   \\\n",
      "###[ ICMP ]###\n",
      "        type      = echo-reply\n",
      "        code      = 0\n",
      "        chksum    = 0x2628\n",
      "        id        = 0x1\n",
      "        seq       = 0x2f33\n",
      "        unused    = b''\n",
      "###[ Raw ]###\n",
      "           load      = b'abcdefghijklmnopqrstuvwabcdefghi'\n",
      "\n"
     ]
    }
   ],
   "source": [
    "results[3].show()  #to check oner packet"
   ]
  },
  {
   "cell_type": "code",
   "execution_count": 44,
   "metadata": {},
   "outputs": [],
   "source": [
    "from scapy.all import Ether, IP, ICMP, sendp, sr1\n"
   ]
  },
  {
   "cell_type": "code",
   "execution_count": 38,
   "metadata": {},
   "outputs": [],
   "source": [
    "pkt = Ether()/IP(dst=\"www.google.com\")/ICMP()/\"hello world\" \n"
   ]
  },
  {
   "cell_type": "code",
   "execution_count": 40,
   "metadata": {},
   "outputs": [
    {
     "name": "stdout",
     "output_type": "stream",
     "text": [
      "\n",
      "Sent 1 packets.\n"
     ]
    }
   ],
   "source": [
    "sendp(pkt)"
   ]
  },
  {
   "cell_type": "code",
   "execution_count": 41,
   "metadata": {},
   "outputs": [
    {
     "name": "stdout",
     "output_type": "stream",
     "text": [
      "###[ Ethernet ]###\n",
      "  dst       = None\n",
      "  src       = 14:75:5b:9a:c6:df\n",
      "  type      = IPv4\n",
      "###[ IP ]###\n",
      "     version   = 4\n",
      "     ihl       = None\n",
      "     tos       = 0x0\n",
      "     len       = None\n",
      "     id        = 1\n",
      "     flags     = \n",
      "     frag      = 0\n",
      "     ttl       = 64\n",
      "     proto     = icmp\n",
      "     chksum    = None\n",
      "     src       = 192.168.1.10\n",
      "     dst       = Net(\"www.google.com/32\")\n",
      "     \\options   \\\n",
      "###[ ICMP ]###\n",
      "        type      = echo-request\n",
      "        code      = 0\n",
      "        chksum    = None\n",
      "        id        = 0x0\n",
      "        seq       = 0x0\n",
      "        unused    = b''\n",
      "###[ Raw ]###\n",
      "           load      = b'hello world'\n",
      "\n"
     ]
    }
   ],
   "source": [
    "pkt.show()\n"
   ]
  },
  {
   "cell_type": "code",
   "execution_count": 42,
   "metadata": {},
   "outputs": [],
   "source": [
    "pkt = IP(dst=\"www.google.com\")/ICMP()/\"hello world again\""
   ]
  },
  {
   "cell_type": "code",
   "execution_count": 45,
   "metadata": {},
   "outputs": [
    {
     "name": "stdout",
     "output_type": "stream",
     "text": [
      "\n",
      "Received 4 packets, got 1 answers, remaining 0 packets\n"
     ]
    },
    {
     "data": {
      "text/plain": [
       "<IP  version=4 ihl=5 tos=0x0 len=45 id=0 flags= frag=0 ttl=58 proto=icmp chksum=0xe8bf src=142.250.71.100 dst=192.168.1.10 |<ICMP  type=echo-reply code=0 chksum=0x3d40 id=0x0 seq=0x0 unused=b'' |<Raw  load=b'hello world again' |>>>"
      ]
     },
     "execution_count": 45,
     "metadata": {},
     "output_type": "execute_result"
    }
   ],
   "source": [
    "sr1(pkt)"
   ]
  },
  {
   "cell_type": "code",
   "execution_count": null,
   "metadata": {},
   "outputs": [],
   "source": []
  }
 ],
 "metadata": {
  "kernelspec": {
   "display_name": "nids",
   "language": "python",
   "name": "python3"
  },
  "language_info": {
   "codemirror_mode": {
    "name": "ipython",
    "version": 3
   },
   "file_extension": ".py",
   "mimetype": "text/x-python",
   "name": "python",
   "nbconvert_exporter": "python",
   "pygments_lexer": "ipython3",
   "version": "3.12.4"
  }
 },
 "nbformat": 4,
 "nbformat_minor": 2
}
