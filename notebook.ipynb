{
 "cells": [
  {
   "cell_type": "markdown",
   "metadata": {},
   "source": [
    "PROJECT: REAL TIME NETWORK INTRUSION DETECTION SYSTEM USING MACHINE LEARNING"
   ]
  },
  {
   "cell_type": "code",
   "execution_count": null,
   "metadata": {
    "vscode": {
     "languageId": "plaintext"
    }
   },
   "outputs": [],
   "source": [
    "from typing import Union\n",
    "from fastapi import FastAPI\n",
    "from pydantic import BaseModel\n",
    "import joblib\n",
    "import numpy as np\n",
    "\n",
    "app = FastAPI()\n",
    "\n",
    "# Load your trained machine learning model\n",
    "model = joblib.load('your_model.pkl')  # Adjust the path as necessary\n",
    "\n",
    "# Define the input data model\n",
    "class IntrusionData(BaseModel):\n",
    "    feature1: float  # Replace with actual feature names and types\n",
    "    feature2: float\n",
    "    feature3: float\n",
    "    # Add more features as needed based on your model\n",
    "\n",
    "@app.get(\"/\")\n",
    "def read_root():\n",
    "    return {\"message\": \"Welcome to the Network Intrusion Detection System API!\"}\n",
    "\n",
    "@app.post(\"/detect\")\n",
    "def detect_intrusion(data: IntrusionData):\n",
    "    # Convert the input data to a format suitable for the model\n",
    "    features = np.array([[data.feature1, data.feature2, data.feature3]])  # Adjust based on your features\n",
    "\n",
    "    # Make a prediction\n",
    "    prediction = model.predict(features)\n",
    "\n",
    "    # Return the prediction result\n",
    "    result = \"Intrusion detected!\" if prediction[0] == 1 else \"No intrusion detected.\"\n",
    "    return {\"prediction\": result}\n",
    "\n",
    "# Optional: Implement WebSocket for real-time alerts\n",
    "from fastapi import WebSocket\n",
    "\n",
    "@app.websocket(\"/ws\")\n",
    "async def websocket_endpoint(websocket: WebSocket):\n",
    "    await websocket.accept()\n",
    "    while True:\n",
    "        data = await websocket.receive_text()\n",
    "        # Here you can process the incoming data and make predictions\n",
    "        # For example, you could parse the data and call the model\n",
    "        # For now, we'll just echo the received data\n",
    "        await websocket.send_text(f\"Received: {data}\")"
   ]
  }
 ],
 "metadata": {
  "language_info": {
   "name": "python"
  }
 },
 "nbformat": 4,
 "nbformat_minor": 2
}
